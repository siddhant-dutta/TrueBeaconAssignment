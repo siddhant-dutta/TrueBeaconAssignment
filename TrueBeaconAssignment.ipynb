{
  "nbformat": 4,
  "nbformat_minor": 0,
  "metadata": {
    "colab": {
      "provenance": [],
      "authorship_tag": "ABX9TyP461TDgYN3s8QNL3pCkg34",
      "include_colab_link": true
    },
    "kernelspec": {
      "name": "python3",
      "display_name": "Python 3"
    },
    "language_info": {
      "name": "python"
    }
  },
  "cells": [
    {
      "cell_type": "markdown",
      "metadata": {
        "id": "view-in-github",
        "colab_type": "text"
      },
      "source": [
        "<a href=\"https://colab.research.google.com/github/siddhant-dutta/TrueBeaconAssignment/blob/master/TrueBeaconAssignment.ipynb\" target=\"_parent\"><img src=\"https://colab.research.google.com/assets/colab-badge.svg\" alt=\"Open In Colab\"/></a>"
      ]
    },
    {
      "cell_type": "code",
      "source": [
        "import pandas as pd \n",
        "data1 = pd.read_csv(\"https://raw.githubusercontent.com/siddhant-dutta/TrueBeaconAssignment/master/GivenData/Index_Subset.csv\", keep_default_na=False)\n",
        "data2 = pd.read_csv(\"https://raw.githubusercontent.com/siddhant-dutta/TrueBeaconAssignment/master/GivenData/Scores_Subset.csv\", keep_default_na=False)\n",
        "data3 = pd.read_csv(\"https://raw.githubusercontent.com/siddhant-dutta/TrueBeaconAssignment/master/GivenData/Factor.csv\")\n",
        "data1.shape\n"
      ],
      "metadata": {
        "colab": {
          "base_uri": "https://localhost:8080/"
        },
        "id": "Q1X1ROGLBhN_",
        "outputId": "5f96d68a-8b4d-40b7-ab5d-cb672b9b97f3"
      },
      "execution_count": 1,
      "outputs": [
        {
          "output_type": "execute_result",
          "data": {
            "text/plain": [
              "(2038, 202)"
            ]
          },
          "metadata": {},
          "execution_count": 1
        }
      ]
    },
    {
      "cell_type": "code",
      "source": [
        "import numpy as np\n",
        "index = data1.to_numpy()\n",
        "score = data2.to_numpy()\n",
        "factor = data3.to_numpy()\n"
      ],
      "metadata": {
        "id": "J8H8zqRjS4Wm"
      },
      "execution_count": 2,
      "outputs": []
    },
    {
      "cell_type": "markdown",
      "source": [
        "#PROBLEM 1\n"
      ],
      "metadata": {
        "id": "QzW98QnmuRju"
      }
    },
    {
      "cell_type": "code",
      "source": [
        "stockNames = data2.columns.values.tolist()\n"
      ],
      "metadata": {
        "id": "NE7uZV_pZt0p"
      },
      "execution_count": 3,
      "outputs": []
    },
    {
      "cell_type": "code",
      "source": [
        "for i in range(2038):\n",
        "  for j in range(1,376):\n",
        "    temp = index[i]\n",
        "    if stockNames[j] in temp:\n",
        "      continue;\n",
        "    else:\n",
        "      score[i][j] = \"NAN\"\n",
        "score "
      ],
      "metadata": {
        "colab": {
          "base_uri": "https://localhost:8080/"
        },
        "id": "PextTIMfT5Hk",
        "outputId": "eebb0041-c6cf-4fda-ef04-c112db405bbc"
      },
      "execution_count": 4,
      "outputs": [
        {
          "output_type": "execute_result",
          "data": {
            "text/plain": [
              "array([['2012-01-02', '', '', ..., '', 'NAN', ''],\n",
              "       ['2012-01-03', '', '', ..., '', 'NAN', ''],\n",
              "       ['2012-01-04', '', '', ..., '', 'NAN', ''],\n",
              "       ...,\n",
              "       ['2020-03-20', 'NAN', 'NAN', ..., '', 'NAN', ''],\n",
              "       ['2020-03-23', 'NAN', 'NAN', ..., '', 'NAN', ''],\n",
              "       ['2020-03-24', 'NAN', 'NAN', ..., '', 'NAN', '']], dtype=object)"
            ]
          },
          "metadata": {},
          "execution_count": 4
        }
      ]
    },
    {
      "cell_type": "code",
      "source": [
        "\n",
        "import csv\n",
        "with open('/content/UpdatedScores_Subset.csv', 'w') as f:\n",
        "      \n",
        "    # using csv.writer method from CSV packag;e\n",
        "    write = csv.writer(f)\n",
        "      \n",
        "    write.writerow(stockNames)\n",
        "    write.writerows(score)"
      ],
      "metadata": {
        "id": "iCEtcTjxVwCz"
      },
      "execution_count": 5,
      "outputs": []
    },
    {
      "cell_type": "markdown",
      "source": [
        "#PROBLEM 2"
      ],
      "metadata": {
        "id": "_9_YcZamub2Z"
      }
    },
    {
      "cell_type": "code",
      "source": [
        "entry_chk = False\n",
        "exit_chk = False\n",
        "for day in factor:\n",
        "  if (not entry_chk) and (not exit_chk):\n",
        "    if day[3]==1 and day[4]==0 :\n",
        "      entry_chk = True\n",
        "    elif day[3]==0 and day[4]==1 :\n",
        "      exit_chk = True\n",
        "    elif day[3]==1 and day[4]==1 :\n",
        "      day[3]=0 \n",
        "      day[4]=0\n",
        "  elif entry_chk and (not exit_chk):\n",
        "    if day[3]==1 or day[4]==1:\n",
        "      day[3] = 0 \n",
        "      day[4] = 1\n",
        "      entry_chk=False\n",
        "      exit_chk=True \n",
        "  elif exit_chk and (not entry_chk):\n",
        "    if day[3]==1 or day[4]==1:\n",
        "      day[3] = 1 \n",
        "      day[4] = 0\n",
        "      entry_chk=True\n",
        "      exit_chk=False \n",
        "\n",
        "factor"
      ],
      "metadata": {
        "id": "NNZ0JMUUVYcR",
        "colab": {
          "base_uri": "https://localhost:8080/"
        },
        "outputId": "99bf8abe-3216-47a8-8040-6a1487680c7d"
      },
      "execution_count": 6,
      "outputs": [
        {
          "output_type": "execute_result",
          "data": {
            "text/plain": [
              "array([['10-05-2019', 0.051577221, 10.10832627, 0, 1],\n",
              "       ['13-05-2019', 0.206216593, 0.452362029, 1, 0],\n",
              "       ['14-05-2019', 1.504560775, 0.31635137, 0, 1],\n",
              "       ...,\n",
              "       ['29-03-2022', 0.942530156, 0.120050542, 0, 0],\n",
              "       ['30-03-2022', 0.928469345, 0.115932908, 0, 0],\n",
              "       ['31-03-2022', 0.811384083, 0.109835799, 0, 0]], dtype=object)"
            ]
          },
          "metadata": {},
          "execution_count": 6
        }
      ]
    },
    {
      "cell_type": "code",
      "source": [
        "columnheaders = data3.columns.values.tolist()\n",
        "columnheaders\n",
        "newdf = pd.DataFrame(factor, columns=columnheaders)\n",
        "newdf.to_csv('/content/UpdatedFactor.csv', index=False)"
      ],
      "metadata": {
        "id": "MSmu13qpwBKU"
      },
      "execution_count": 7,
      "outputs": []
    },
    {
      "cell_type": "code",
      "source": [
        "newdf.head()\n"
      ],
      "metadata": {
        "colab": {
          "base_uri": "https://localhost:8080/",
          "height": 206
        },
        "id": "xSIkhgOy9uP1",
        "outputId": "79cb4aaf-d1f1-4869-f768-6f10edfe3b6a"
      },
      "execution_count": 8,
      "outputs": [
        {
          "output_type": "execute_result",
          "data": {
            "text/plain": [
              "         date  Factor_1   Factor_2 Is_Entry Is_Exit\n",
              "0  10-05-2019  0.051577  10.108326        0       1\n",
              "1  13-05-2019  0.206217   0.452362        1       0\n",
              "2  14-05-2019  1.504561   0.316351        0       1\n",
              "3  15-05-2019  0.933875   0.084322        0       0\n",
              "4  16-05-2019  0.884364   0.024767        0       0"
            ],
            "text/html": [
              "\n",
              "  <div id=\"df-2876dd92-75b7-4459-b994-1e6ab8d33e8a\">\n",
              "    <div class=\"colab-df-container\">\n",
              "      <div>\n",
              "<style scoped>\n",
              "    .dataframe tbody tr th:only-of-type {\n",
              "        vertical-align: middle;\n",
              "    }\n",
              "\n",
              "    .dataframe tbody tr th {\n",
              "        vertical-align: top;\n",
              "    }\n",
              "\n",
              "    .dataframe thead th {\n",
              "        text-align: right;\n",
              "    }\n",
              "</style>\n",
              "<table border=\"1\" class=\"dataframe\">\n",
              "  <thead>\n",
              "    <tr style=\"text-align: right;\">\n",
              "      <th></th>\n",
              "      <th>date</th>\n",
              "      <th>Factor_1</th>\n",
              "      <th>Factor_2</th>\n",
              "      <th>Is_Entry</th>\n",
              "      <th>Is_Exit</th>\n",
              "    </tr>\n",
              "  </thead>\n",
              "  <tbody>\n",
              "    <tr>\n",
              "      <th>0</th>\n",
              "      <td>10-05-2019</td>\n",
              "      <td>0.051577</td>\n",
              "      <td>10.108326</td>\n",
              "      <td>0</td>\n",
              "      <td>1</td>\n",
              "    </tr>\n",
              "    <tr>\n",
              "      <th>1</th>\n",
              "      <td>13-05-2019</td>\n",
              "      <td>0.206217</td>\n",
              "      <td>0.452362</td>\n",
              "      <td>1</td>\n",
              "      <td>0</td>\n",
              "    </tr>\n",
              "    <tr>\n",
              "      <th>2</th>\n",
              "      <td>14-05-2019</td>\n",
              "      <td>1.504561</td>\n",
              "      <td>0.316351</td>\n",
              "      <td>0</td>\n",
              "      <td>1</td>\n",
              "    </tr>\n",
              "    <tr>\n",
              "      <th>3</th>\n",
              "      <td>15-05-2019</td>\n",
              "      <td>0.933875</td>\n",
              "      <td>0.084322</td>\n",
              "      <td>0</td>\n",
              "      <td>0</td>\n",
              "    </tr>\n",
              "    <tr>\n",
              "      <th>4</th>\n",
              "      <td>16-05-2019</td>\n",
              "      <td>0.884364</td>\n",
              "      <td>0.024767</td>\n",
              "      <td>0</td>\n",
              "      <td>0</td>\n",
              "    </tr>\n",
              "  </tbody>\n",
              "</table>\n",
              "</div>\n",
              "      <button class=\"colab-df-convert\" onclick=\"convertToInteractive('df-2876dd92-75b7-4459-b994-1e6ab8d33e8a')\"\n",
              "              title=\"Convert this dataframe to an interactive table.\"\n",
              "              style=\"display:none;\">\n",
              "        \n",
              "  <svg xmlns=\"http://www.w3.org/2000/svg\" height=\"24px\"viewBox=\"0 0 24 24\"\n",
              "       width=\"24px\">\n",
              "    <path d=\"M0 0h24v24H0V0z\" fill=\"none\"/>\n",
              "    <path d=\"M18.56 5.44l.94 2.06.94-2.06 2.06-.94-2.06-.94-.94-2.06-.94 2.06-2.06.94zm-11 1L8.5 8.5l.94-2.06 2.06-.94-2.06-.94L8.5 2.5l-.94 2.06-2.06.94zm10 10l.94 2.06.94-2.06 2.06-.94-2.06-.94-.94-2.06-.94 2.06-2.06.94z\"/><path d=\"M17.41 7.96l-1.37-1.37c-.4-.4-.92-.59-1.43-.59-.52 0-1.04.2-1.43.59L10.3 9.45l-7.72 7.72c-.78.78-.78 2.05 0 2.83L4 21.41c.39.39.9.59 1.41.59.51 0 1.02-.2 1.41-.59l7.78-7.78 2.81-2.81c.8-.78.8-2.07 0-2.86zM5.41 20L4 18.59l7.72-7.72 1.47 1.35L5.41 20z\"/>\n",
              "  </svg>\n",
              "      </button>\n",
              "      \n",
              "  <style>\n",
              "    .colab-df-container {\n",
              "      display:flex;\n",
              "      flex-wrap:wrap;\n",
              "      gap: 12px;\n",
              "    }\n",
              "\n",
              "    .colab-df-convert {\n",
              "      background-color: #E8F0FE;\n",
              "      border: none;\n",
              "      border-radius: 50%;\n",
              "      cursor: pointer;\n",
              "      display: none;\n",
              "      fill: #1967D2;\n",
              "      height: 32px;\n",
              "      padding: 0 0 0 0;\n",
              "      width: 32px;\n",
              "    }\n",
              "\n",
              "    .colab-df-convert:hover {\n",
              "      background-color: #E2EBFA;\n",
              "      box-shadow: 0px 1px 2px rgba(60, 64, 67, 0.3), 0px 1px 3px 1px rgba(60, 64, 67, 0.15);\n",
              "      fill: #174EA6;\n",
              "    }\n",
              "\n",
              "    [theme=dark] .colab-df-convert {\n",
              "      background-color: #3B4455;\n",
              "      fill: #D2E3FC;\n",
              "    }\n",
              "\n",
              "    [theme=dark] .colab-df-convert:hover {\n",
              "      background-color: #434B5C;\n",
              "      box-shadow: 0px 1px 3px 1px rgba(0, 0, 0, 0.15);\n",
              "      filter: drop-shadow(0px 1px 2px rgba(0, 0, 0, 0.3));\n",
              "      fill: #FFFFFF;\n",
              "    }\n",
              "  </style>\n",
              "\n",
              "      <script>\n",
              "        const buttonEl =\n",
              "          document.querySelector('#df-2876dd92-75b7-4459-b994-1e6ab8d33e8a button.colab-df-convert');\n",
              "        buttonEl.style.display =\n",
              "          google.colab.kernel.accessAllowed ? 'block' : 'none';\n",
              "\n",
              "        async function convertToInteractive(key) {\n",
              "          const element = document.querySelector('#df-2876dd92-75b7-4459-b994-1e6ab8d33e8a');\n",
              "          const dataTable =\n",
              "            await google.colab.kernel.invokeFunction('convertToInteractive',\n",
              "                                                     [key], {});\n",
              "          if (!dataTable) return;\n",
              "\n",
              "          const docLinkHtml = 'Like what you see? Visit the ' +\n",
              "            '<a target=\"_blank\" href=https://colab.research.google.com/notebooks/data_table.ipynb>data table notebook</a>'\n",
              "            + ' to learn more about interactive tables.';\n",
              "          element.innerHTML = '';\n",
              "          dataTable['output_type'] = 'display_data';\n",
              "          await google.colab.output.renderOutput(dataTable, element);\n",
              "          const docLink = document.createElement('div');\n",
              "          docLink.innerHTML = docLinkHtml;\n",
              "          element.appendChild(docLink);\n",
              "        }\n",
              "      </script>\n",
              "    </div>\n",
              "  </div>\n",
              "  "
            ]
          },
          "metadata": {},
          "execution_count": 8
        }
      ]
    }
  ]
}